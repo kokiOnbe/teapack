{
 "cells": [
  {
   "cell_type": "code",
   "execution_count": null,
   "metadata": {},
   "outputs": [],
   "source": [
    "s = input()\n",
    "i = int(input())\n",
    "n,k = map(int, input().split())\n",
    "s,t = map(str, input().split())"
   ]
  },
  {
   "cell_type": "code",
   "execution_count": 2,
   "metadata": {},
   "outputs": [
    {
     "name": "stdout",
     "output_type": "stream",
     "text": [
      "1\n",
      "1\n"
     ]
    }
   ],
   "source": [
    "A = 3\n",
    "B = 2\n",
    "print(A//B)\n",
    "print(A%B)"
   ]
  },
  {
   "cell_type": "code",
   "execution_count": 5,
   "metadata": {},
   "outputs": [
    {
     "name": "stdout",
     "output_type": "stream",
     "text": [
      "3 2 yes\n"
     ]
    }
   ],
   "source": [
    "print(A, B, \"yes\")"
   ]
  },
  {
   "cell_type": "code",
   "execution_count": null,
   "metadata": {},
   "outputs": [
    {
     "name": "stdout",
     "output_type": "stream",
     "text": [
      "no\n"
     ]
    }
   ],
   "source": [
    "if A%3 == 0:\n",
    "    print(\"yes\")\n",
    "    \n"
   ]
  },
  {
   "cell_type": "code",
   "execution_count": 8,
   "metadata": {},
   "outputs": [
    {
     "name": "stdout",
     "output_type": "stream",
     "text": [
      "else\n"
     ]
    }
   ],
   "source": [
    "if A%4 == 0:\n",
    "    print(0)\n",
    "elif A%4 == 1:\n",
    "    print(1)\n",
    "else:\n",
    "    print(\"else\")"
   ]
  },
  {
   "cell_type": "code",
   "execution_count": null,
   "metadata": {},
   "outputs": [],
   "source": [
    "==\n",
    "<=\n",
    ">="
   ]
  },
  {
   "cell_type": "code",
   "execution_count": 10,
   "metadata": {},
   "outputs": [
    {
     "name": "stdout",
     "output_type": "stream",
     "text": [
      "Glove\n"
     ]
    }
   ],
   "source": [
    "B,G = map(int, input().split())\n",
    "if B > G:\n",
    "    print(\"Bat\")\n",
    "else:\n",
    "    print(\"Glove\")\n"
   ]
  },
  {
   "cell_type": "code",
   "execution_count": 1,
   "metadata": {},
   "outputs": [
    {
     "name": "stdout",
     "output_type": "stream",
     "text": [
      "6\n",
      "Takahashi\n"
     ]
    }
   ],
   "source": [
    "a,b,c,d = map(int, input().split())\n",
    "print((a+b)*(c-d))\n",
    "print(\"Takahashi\")\n"
   ]
  },
  {
   "cell_type": "code",
   "execution_count": 10,
   "metadata": {},
   "outputs": [
    {
     "data": {
      "text/plain": [
       "'SUZUKI YASUNO'"
      ]
     },
     "execution_count": 10,
     "metadata": {},
     "output_type": "execute_result"
    }
   ],
   "source": [
    "name = \"Suzuki\"+\" \"+\"Yasuno\"\n",
    "# a,b = map(str, name.split())\n",
    "name[0:6]\n",
    "name.upper()"
   ]
  },
  {
   "cell_type": "code",
   "execution_count": null,
   "metadata": {},
   "outputs": [
    {
     "name": "stdout",
     "output_type": "stream",
     "text": [
      "1\n",
      "0\n",
      "0\n",
      "0\n"
     ]
    }
   ],
   "source": [
    "cnt = 0\n",
    "for s in name:\n",
    "    print(s)\n",
    "    if s==\"u\":\n",
    "        cnt = cnt+1\n",
    "print(cnt)"
   ]
  },
  {
   "cell_type": "code",
   "execution_count": 56,
   "metadata": {},
   "outputs": [
    {
     "name": "stdout",
     "output_type": "stream",
     "text": [
      "101010101010101010101\n"
     ]
    }
   ],
   "source": [
    "s = \"1\"\n",
    "N=10\n",
    "for n in range(10):\n",
    "    s = s+\"01\"\n",
    "print(s)"
   ]
  },
  {
   "cell_type": "code",
   "execution_count": 53,
   "metadata": {},
   "outputs": [
    {
     "name": "stdout",
     "output_type": "stream",
     "text": [
      "[0, 1, 2, 3, 4, 5, 6, 7, 8, 9]\n",
      "10\n"
     ]
    }
   ],
   "source": [
    "A = list(range(10))\n",
    "print(A)\n",
    "cnt = 0\n",
    "for a in A:\n",
    "    cnt = cnt + 1\n",
    "print(cnt)"
   ]
  },
  {
   "cell_type": "code",
   "execution_count": null,
   "metadata": {},
   "outputs": [
    {
     "name": "stdout",
     "output_type": "stream",
     "text": [
      "101010101\n"
     ]
    }
   ],
   "source": [
    "N = int(input())\n",
    "print(\"1\"+\"01\"*N)"
   ]
  },
  {
   "cell_type": "code",
   "execution_count": 26,
   "metadata": {},
   "outputs": [
    {
     "name": "stdout",
     "output_type": "stream",
     "text": [
      "yes\n"
     ]
    }
   ],
   "source": [
    "A= [1,3,5,7,8,10,12]\n",
    "c=12\n",
    "for a in A:\n",
    "    if a==c:\n",
    "        print(\"yes\")\n"
   ]
  },
  {
   "cell_type": "code",
   "execution_count": 2,
   "metadata": {},
   "outputs": [
    {
     "name": "stdout",
     "output_type": "stream",
     "text": [
      "366\n"
     ]
    }
   ],
   "source": [
    "Y = int(input())\n",
    "if Y%4 != 0:\n",
    "    print(365)\n",
    "elif Y%100 != 0:\n",
    "    print(366)\n",
    "elif Y%400 != 0:\n",
    "    print(365)\n",
    "else:\n",
    "    print(366)"
   ]
  },
  {
   "cell_type": "code",
   "execution_count": null,
   "metadata": {},
   "outputs": [],
   "source": [
    "if Y%4 ==0:\n",
    "    if Y%100 != 0:\n",
    "if Y%4 ==0 and Y%100 != 0:\n",
    "if Y%4 ==0 or Y%100 != 0:"
   ]
  },
  {
   "cell_type": "code",
   "execution_count": 6,
   "metadata": {},
   "outputs": [
    {
     "name": "stdout",
     "output_type": "stream",
     "text": [
      "45\n"
     ]
    }
   ],
   "source": [
    "range(10)\n",
    "s = 0\n",
    "for a in range(10):\n",
    "    s = s+a\n",
    "print(s)"
   ]
  },
  {
   "cell_type": "code",
   "execution_count": 10,
   "metadata": {},
   "outputs": [
    {
     "name": "stdout",
     "output_type": "stream",
     "text": [
      "32768\n"
     ]
    }
   ],
   "source": [
    "ni = 1\n",
    "for a in range(15):\n",
    "    ni = ni*2\n",
    "print(ni)"
   ]
  },
  {
   "cell_type": "code",
   "execution_count": 15,
   "metadata": {},
   "outputs": [
    {
     "name": "stdout",
     "output_type": "stream",
     "text": [
      "chokudai"
     ]
    }
   ],
   "source": [
    "S = input()\n",
    "for a in S:\n",
    "    if a != \".\":\n",
    "        print(a,end=\"\")"
   ]
  },
  {
   "cell_type": "code",
   "execution_count": null,
   "metadata": {},
   "outputs": [],
   "source": []
  },
  {
   "cell_type": "code",
   "execution_count": 9,
   "metadata": {},
   "outputs": [
    {
     "name": "stdout",
     "output_type": "stream",
     "text": [
      "7\n"
     ]
    }
   ],
   "source": [
    "N,D = map(int, input().split())\n",
    "S = input()\n",
    "karappo = 0\n",
    "for hako in S:\n",
    "    if hako == \".\":\n",
    "        karappo =karappo + 1\n",
    "lastkarappo = karappo + D\n",
    "print(lastkarappo)"
   ]
  },
  {
   "cell_type": "code",
   "execution_count": null,
   "metadata": {},
   "outputs": [
    {
     "name": "stdout",
     "output_type": "stream",
     "text": [
      ".@...\n"
     ]
    }
   ],
   "source": [
    "N,D = map(int, input().split())\n",
    "S = list(input())\n",
    "for zenbunohako in range(D):\n",
    "    for hako in range(N-1,-1,-1):\n",
    "        if S[hako] == \"@\":\n",
    "            S[hako] = \".\"\n",
    "            break\n",
    "print(''.join(S))"
   ]
  },
  {
   "cell_type": "code",
   "execution_count": null,
   "metadata": {},
   "outputs": [
    {
     "name": "stdout",
     "output_type": "stream",
     "text": [
      "57\n"
     ]
    }
   ],
   "source": [
    "N = int(input())\n",
    "OmizuTime = 0\n",
    "kashitsuki = 0\n",
    "for monyo in range(N):\n",
    "    T,V = map(int, input().split())\n",
    "    NOW = T - OmizuTime\n",
    "    if kashitsuki > NOW:\n",
    "        kashitsuki = kashitsuki - NOW\n",
    "    else:\n",
    "        kashitsuki = 0\n",
    "    kashitsuki = kashitsuki + V\n",
    "    OmizuTime = T\n",
    "print(kashitsuki)"
   ]
  },
  {
   "cell_type": "code",
   "execution_count": 3,
   "metadata": {},
   "outputs": [
    {
     "name": "stdout",
     "output_type": "stream",
     "text": [
      "tcdr\n"
     ]
    }
   ],
   "source": [
    "S = input()\n",
    "kotae = \"\"\n",
    "for monyo in S:\n",
    "    if monyo != \"a\" and monyo != \"e\" and monyo != \"i\" and monyo != \"o\" and monyo != \"u\":\n",
    "        kotae = kotae + monyo\n",
    "print(kotae)"
   ]
  },
  {
   "cell_type": "code",
   "execution_count": 4,
   "metadata": {},
   "outputs": [
    {
     "name": "stdout",
     "output_type": "stream",
     "text": [
      "tcdr\n"
     ]
    }
   ],
   "source": [
    "S = input()\n",
    "kotae = \"\"\n",
    "for monyo in S:\n",
    "    if monyo == \"a\":\n",
    "        continue\n",
    "    if monyo == \"e\":\n",
    "        continue\n",
    "    if monyo == \"i\":\n",
    "        continue\n",
    "    if monyo == \"o\":\n",
    "        continue\n",
    "    if monyo == \"u\":\n",
    "        continue\n",
    "    \n",
    "    kotae = kotae + monyo\n",
    "print(kotae)"
   ]
  },
  {
   "cell_type": "code",
   "execution_count": 8,
   "metadata": {},
   "outputs": [
    {
     "name": "stdout",
     "output_type": "stream",
     "text": [
      "9\n"
     ]
    }
   ],
   "source": [
    "N = int(input())\n",
    "H = list(map(int, input().split()))\n",
    "taka = 0\n",
    "cnt = 0\n",
    "for h in H:\n",
    "    cnt = cnt+1\n",
    "    if taka < h:\n",
    "        taka = h\n",
    "        kotae = cnt\n",
    "print(kotae)\n",
    "    "
   ]
  },
  {
   "cell_type": "code",
   "execution_count": null,
   "metadata": {},
   "outputs": [],
   "source": [
    "taka = 0\n",
    "for n in range(N):\n",
    "    if taka < H[n]:\n",
    "        taka = H[n]\n",
    "        kotae = n+1"
   ]
  },
  {
   "cell_type": "code",
   "execution_count": null,
   "metadata": {},
   "outputs": [
    {
     "name": "stdout",
     "output_type": "stream",
     "text": [
      "[111, 75, 26, 45, 72, 81, 47, 29, 97, 2]\n"
     ]
    }
   ],
   "source": [
    "print(H)"
   ]
  },
  {
   "cell_type": "code",
   "execution_count": 10,
   "metadata": {},
   "outputs": [
    {
     "data": {
      "text/plain": [
       "'a'"
      ]
     },
     "execution_count": 10,
     "metadata": {},
     "output_type": "execute_result"
    }
   ],
   "source": [
    "S=\"atcoder\"\n",
    "S[0]"
   ]
  },
  {
   "cell_type": "code",
   "execution_count": 9,
   "metadata": {},
   "outputs": [
    {
     "name": "stdout",
     "output_type": "stream",
     "text": [
      "aaaadaa\n"
     ]
    }
   ],
   "source": [
    "N,C1,C2 = map(str, input().split())\n",
    "S = input()\n",
    "kotae = \"\"\n",
    "for s in S:\n",
    "    if s != C1:\n",
    "        kotae = kotae + C2\n",
    "    else:\n",
    "        kotae = kotae + C1\n",
    "print(kotae)"
   ]
  },
  {
   "cell_type": "code",
   "execution_count": null,
   "metadata": {},
   "outputs": [
    {
     "name": "stdout",
     "output_type": "stream",
     "text": [
      "1226\n"
     ]
    }
   ],
   "source": [
    "N,R = map(int, input().split())\n",
    "for monyo in range(N):\n",
    "    D,A = map(int, input().split())\n",
    "    if D == 1 and 1600 <= R <= 2799:\n",
    "        R = R + A\n",
    "    elif D == 2 and 1200 <= R <= 2399:\n",
    "        R = R + A\n",
    "print(R)"
   ]
  },
  {
   "cell_type": "code",
   "execution_count": 4,
   "metadata": {},
   "outputs": [
    {
     "name": "stdout",
     "output_type": "stream",
     "text": [
      "No\n"
     ]
    }
   ],
   "source": [
    "A,B,C = map(int, input().split())\n",
    "if A == B == C:\n",
    "    print(\"Yes\")\n",
    "elif A + B == C:\n",
    "    print(\"Yes\")\n",
    "elif A == B + C:\n",
    "    print(\"Yes\")\n",
    "elif A + C == B:\n",
    "    print(\"Yes\")\n",
    "else:\n",
    "    print(\"No\")\n"
   ]
  },
  {
   "cell_type": "code",
   "execution_count": null,
   "metadata": {},
   "outputs": [],
   "source": [
    "\n"
   ]
  },
  {
   "cell_type": "code",
   "execution_count": null,
   "metadata": {},
   "outputs": [],
   "source": []
  },
  {
   "cell_type": "code",
   "execution_count": null,
   "metadata": {},
   "outputs": [],
   "source": []
  },
  {
   "cell_type": "code",
   "execution_count": null,
   "metadata": {},
   "outputs": [],
   "source": []
  },
  {
   "cell_type": "code",
   "execution_count": null,
   "metadata": {},
   "outputs": [],
   "source": []
  },
  {
   "cell_type": "code",
   "execution_count": null,
   "metadata": {},
   "outputs": [],
   "source": []
  },
  {
   "cell_type": "code",
   "execution_count": null,
   "metadata": {},
   "outputs": [],
   "source": []
  }
 ],
 "metadata": {
  "kernelspec": {
   "display_name": "Python 3",
   "language": "python",
   "name": "python3"
  },
  "language_info": {
   "codemirror_mode": {
    "name": "ipython",
    "version": 3
   },
   "file_extension": ".py",
   "mimetype": "text/x-python",
   "name": "python",
   "nbconvert_exporter": "python",
   "pygments_lexer": "ipython3",
   "version": "3.11.9"
  }
 },
 "nbformat": 4,
 "nbformat_minor": 2
}
